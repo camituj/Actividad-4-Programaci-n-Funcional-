{
 "cells": [
  {
   "cell_type": "code",
   "execution_count": 2,
   "metadata": {},
   "outputs": [],
   "source": [
    "import pandas as pd\n",
    "import actividad4"
   ]
  },
  {
   "cell_type": "code",
   "execution_count": 3,
   "metadata": {},
   "outputs": [],
   "source": [
    "df = actividad4.cargar_archivo(\"listingstokyo.csv\", \"csv\")"
   ]
  },
  {
   "cell_type": "code",
   "execution_count": 5,
   "metadata": {},
   "outputs": [
    {
     "name": "stderr",
     "output_type": "stream",
     "text": [
      "/Users/camilatrujilloberistain/Documents/CONCENTRACIÓN APUNTES/alfredo garcia profe concentracion /carga de datos /4.FUNCIONES/actividad4.py:18: FutureWarning: DataFrame.fillna with 'method' is deprecated and will raise in a future version. Use obj.ffill() or obj.bfill() instead.\n",
      "  return df.fillna(method='ffill')\n",
      "/Users/camilatrujilloberistain/Documents/CONCENTRACIÓN APUNTES/alfredo garcia profe concentracion /carga de datos /4.FUNCIONES/actividad4.py:22: FutureWarning: DataFrame.fillna with 'method' is deprecated and will raise in a future version. Use obj.ffill() or obj.bfill() instead.\n",
      "  return df.fillna(method='bfill')\n"
     ]
    }
   ],
   "source": [
    "df_ffill = actividad4.rellenar_ffill(df)\n",
    "df_bfill = actividad4.rellenar_bfill(df)\n",
    "df_string = actividad4.rellenar_string(df, \"No disponible\")\n",
    "df_promedio = actividad4.rellenar_promedio(df)\n",
    "df_mediana = actividad4.rellenar_mediana(df)\n",
    "df_constante = actividad4.rellenar_constante(df, -1)"
   ]
  },
  {
   "cell_type": "code",
   "execution_count": 6,
   "metadata": {},
   "outputs": [
    {
     "name": "stdout",
     "output_type": "stream",
     "text": [
      "{'nulos_por_columna': id                                                 0\n",
      "listing_url                                        0\n",
      "scrape_id                                          0\n",
      "last_scraped                                       0\n",
      "source                                             0\n",
      "                                                ... \n",
      "calculated_host_listings_count                     0\n",
      "calculated_host_listings_count_entire_homes        0\n",
      "calculated_host_listings_count_private_rooms       0\n",
      "calculated_host_listings_count_shared_rooms        0\n",
      "reviews_per_month                               2883\n",
      "Length: 75, dtype: int64, 'total_nulos': np.int64(124429)}\n"
     ]
    }
   ],
   "source": [
    "nulos = actividad4.identificar_nulos(df)\n",
    "print(nulos)"
   ]
  },
  {
   "cell_type": "code",
   "execution_count": 7,
   "metadata": {},
   "outputs": [
    {
     "name": "stderr",
     "output_type": "stream",
     "text": [
      "/var/folders/tr/mry98_7x4ml8xx_5s0mpz0pw0000gn/T/ipykernel_74405/3689384466.py:1: FutureWarning: Setting an item of incompatible dtype is deprecated and will raise an error in a future version of pandas. Value 'Desconocido' has dtype incompatible with float64, please explicitly cast to a compatible dtype first.\n",
      "  df.fillna(\"Desconocido\", inplace=True)  # Para datos de texto\n"
     ]
    }
   ],
   "source": [
    "df.fillna(\"Desconocido\", inplace=True)  # Para datos de texto\n",
    "df.fillna(0, inplace=True)"
   ]
  },
  {
   "cell_type": "code",
   "execution_count": 9,
   "metadata": {},
   "outputs": [
    {
     "name": "stderr",
     "output_type": "stream",
     "text": [
      "/var/folders/tr/mry98_7x4ml8xx_5s0mpz0pw0000gn/T/ipykernel_74405/2936557684.py:2: FutureWarning: A value is trying to be set on a copy of a DataFrame or Series through chained assignment using an inplace method.\n",
      "The behavior will change in pandas 3.0. This inplace method will never work because the intermediate object on which we are setting values always behaves as a copy.\n",
      "\n",
      "For example, when doing 'df[col].method(value, inplace=True)', try using 'df.method({col: value}, inplace=True)' or df[col] = df[col].method(value) instead, to perform the operation inplace on the original object.\n",
      "\n",
      "\n",
      "  df[\"reviews_per_month\"].fillna(df[\"reviews_per_month\"].median(), inplace=True)\n"
     ]
    }
   ],
   "source": [
    "df[\"reviews_per_month\"] = pd.to_numeric(df[\"reviews_per_month\"], errors=\"coerce\")\n",
    "df[\"reviews_per_month\"].fillna(df[\"reviews_per_month\"].median(), inplace=True)\n"
   ]
  },
  {
   "cell_type": "code",
   "execution_count": 10,
   "metadata": {},
   "outputs": [
    {
     "name": "stdout",
     "output_type": "stream",
     "text": [
      "[1.130e+00 1.790e+00 1.690e+00 1.900e+00 9.700e-01 1.030e+00 1.440e+00\n",
      " 2.000e-01 2.260e+00 3.100e-01 7.500e-01 2.280e+00 1.530e+00 5.300e-01\n",
      " 9.500e-01 2.930e+00 1.570e+00 2.360e+00 1.900e-01 5.800e-01 1.190e+00\n",
      " 2.390e+00 1.460e+00 1.480e+00 1.710e+00 1.740e+00 1.580e+00 1.230e+00\n",
      " 1.490e+00 2.400e-01 2.050e+00 1.200e-01 4.700e-01 3.200e-01 1.800e-01\n",
      " 1.300e+00 1.240e+00 4.800e-01 1.800e+00 1.040e+00 5.100e-01 2.100e-01\n",
      " 1.400e-01 1.310e+00 7.700e-01 6.700e-01 1.100e+00 7.600e-01 2.470e+00\n",
      " 6.200e-01 3.800e-01 1.470e+00 3.600e-01 1.060e+00 1.000e-01 2.510e+00\n",
      " 9.000e-02 1.260e+00 6.100e-01 7.200e-01 2.020e+00 6.800e-01 1.180e+00\n",
      " 9.900e-01 6.900e-01 1.280e+00 2.220e+00 4.500e-01 4.900e-01 8.800e-01\n",
      " 3.070e+00 2.860e+00 2.070e+00 1.340e+00 1.560e+00 5.600e-01 5.200e-01\n",
      " 4.200e-01 1.720e+00 2.410e+00 8.900e-01 3.900e-01 8.000e-01 1.930e+00\n",
      " 1.880e+00 8.300e-01 1.810e+00 1.890e+00 9.200e-01 1.210e+00 2.900e-01\n",
      " 1.140e+00 1.980e+00 3.400e-01 6.300e-01 5.120e+00 2.740e+00 5.500e-01\n",
      " 3.500e-01 1.170e+00 1.920e+00 2.700e+00 2.200e-01 4.000e-02 2.010e+00\n",
      " 7.300e-01 1.700e+00 6.000e-01 4.300e-01 3.030e+00 2.770e+00 1.680e+00\n",
      " 2.100e+00 4.240e+00 3.100e+00 1.950e+00 3.510e+00 2.570e+00 1.350e+00\n",
      " 1.610e+00 7.000e-01 5.400e-01 1.420e+00 1.940e+00 2.800e+00 1.120e+00\n",
      " 2.330e+00 2.990e+00 1.270e+00 2.090e+00 2.840e+00 2.450e+00 7.900e-01\n",
      " 1.780e+00 1.410e+00 1.620e+00 3.480e+00 3.610e+00 7.100e-01 1.390e+00\n",
      " 1.400e+00 4.080e+00 2.630e+00 1.600e+00 5.900e-01 3.680e+00 3.190e+00\n",
      " 2.780e+00 2.210e+00 2.600e-01 2.620e+00 2.440e+00 3.540e+00 1.110e+00\n",
      " 5.710e+00 1.770e+00 8.000e-02 2.080e+00 2.950e+00 1.430e+00 1.520e+00\n",
      " 2.240e+00 9.400e-01 2.500e-01 1.500e+00 2.040e+00 1.320e+00 1.050e+00\n",
      " 3.530e+00 2.120e+00 3.420e+00 2.130e+00 2.650e+00 1.220e+00 1.840e+00\n",
      " 3.740e+00 1.380e+00 2.350e+00 1.250e+00 2.200e+00 1.160e+00 8.500e-01\n",
      " 1.870e+00 1.010e+00 7.800e-01 9.000e-01 2.540e+00 1.700e-01 6.000e-02\n",
      " 1.650e+00 3.700e-01 3.900e+00 2.810e+00 1.990e+00 3.180e+00 1.760e+00\n",
      " 2.190e+00 2.590e+00 2.490e+00 1.500e-01 1.290e+00 2.030e+00 7.400e-01\n",
      " 3.330e+00 2.400e+00 1.670e+00 1.830e+00 2.000e+00 2.460e+00 3.300e+00\n",
      " 2.520e+00 4.820e+00 2.370e+00 2.180e+00 3.000e+00 4.100e-01 4.400e+00\n",
      " 4.120e+00 3.360e+00 2.340e+00 2.250e+00 1.000e+00 1.450e+00 9.600e-01\n",
      " 2.530e+00 2.060e+00 1.590e+00 1.970e+00 1.090e+00 2.610e+00 3.430e+00\n",
      " 8.600e-01 5.000e-01 2.170e+00 8.700e-01 1.860e+00 2.560e+00 3.570e+00\n",
      " 1.540e+00 3.490e+00 2.320e+00 1.360e+00 1.150e+00 1.200e+00 1.850e+00\n",
      " 1.370e+00 1.550e+00 2.430e+00 2.550e+00 1.630e+00 2.110e+00 3.020e+00\n",
      " 8.200e-01 3.000e-01 2.800e-01 5.310e+00 4.860e+00 4.400e-01 1.730e+00\n",
      " 8.400e-01 1.660e+00 2.820e+00 1.820e+00 2.270e+00 2.420e+00 1.960e+00\n",
      " 3.580e+00 1.330e+00 3.460e+00 5.700e-01 9.300e-01 2.230e+00 2.310e+00\n",
      " 3.170e+00 2.150e+00 2.140e+00 3.060e+00 3.010e+00 3.130e+00 2.880e+00\n",
      " 3.930e+00 2.660e+00 5.170e+00 1.080e+00 1.750e+00 1.070e+00 2.700e-01\n",
      " 4.600e-01 1.910e+00 9.800e-01 2.940e+00 2.680e+00 2.690e+00 3.300e-01\n",
      " 2.670e+00 2.900e+00 2.710e+00 2.790e+00 6.500e-01 3.850e+00 2.290e+00\n",
      " 6.600e-01 1.510e+00 3.250e+00 1.300e-01 3.260e+00 3.160e+00 2.920e+00\n",
      " 2.640e+00 1.020e+00 3.750e+00 2.300e-01 4.000e-01 1.600e-01 5.000e-02\n",
      " 2.750e+00 3.110e+00 3.630e+00 3.090e+00 2.890e+00 8.100e-01 2.600e+00\n",
      " 5.460e+00 4.470e+00 2.830e+00 7.000e-02 5.540e+00 1.640e+00 3.320e+00\n",
      " 6.550e+00 3.350e+00 4.680e+00 3.220e+00 2.970e+00 3.080e+00 1.100e-01\n",
      " 2.000e-02 4.180e+00 3.150e+00 7.600e+00 3.970e+00 9.100e-01 3.200e+00\n",
      " 1.129e+01 4.570e+00 6.400e-01 7.970e+00 3.040e+00 4.630e+00 1.000e-02\n",
      " 3.000e-02 2.160e+00 2.500e+00 6.060e+00 2.580e+00 4.790e+00 3.600e+00\n",
      " 8.800e+00 9.820e+00 2.870e+00 3.470e+00 3.400e+00 4.270e+00 3.770e+00\n",
      " 4.009e+01 3.820e+00 2.760e+00 7.240e+00 3.290e+00 6.090e+00 3.440e+00\n",
      " 3.450e+00 4.750e+00 2.980e+00 3.640e+00 3.620e+00 5.880e+00 6.070e+00\n",
      " 2.480e+00 4.250e+00 5.150e+00 3.500e+00 2.730e+00 3.120e+00 3.410e+00\n",
      " 3.280e+00 6.620e+00 4.000e+00 5.160e+00 5.320e+00 4.090e+00 4.460e+00\n",
      " 2.850e+00 4.480e+00 1.158e+01 4.030e+00 6.240e+00 3.520e+00 2.380e+00\n",
      " 3.230e+00 5.620e+00 5.740e+00 5.340e+00 3.870e+00 4.130e+00 4.510e+00\n",
      " 2.300e+00 4.690e+00 8.510e+00 2.091e+01 3.890e+00 3.380e+00 4.110e+00\n",
      " 5.090e+00 4.190e+00 7.800e+00 4.930e+00 4.890e+00 3.210e+00 1.092e+01\n",
      " 3.240e+00 3.670e+00 2.910e+00 5.010e+00 4.360e+00 4.440e+00 2.720e+00\n",
      " 5.220e+00 5.280e+00 5.230e+00 4.070e+00 7.650e+00 4.940e+00 4.280e+00\n",
      " 7.520e+00 5.270e+00 8.040e+00 3.950e+00 5.940e+00 5.070e+00 3.720e+00\n",
      " 7.010e+00 5.920e+00 4.710e+00 5.630e+00 6.950e+00 4.040e+00 4.100e+00\n",
      " 6.610e+00 7.350e+00 3.550e+00 9.460e+00 2.900e+01 5.810e+00 3.730e+00\n",
      " 2.211e+01 3.700e+00 6.160e+00 6.640e+00 7.320e+00 3.050e+00 4.300e+00\n",
      " 5.360e+00 3.340e+00 4.540e+00 6.280e+00 3.990e+00 6.030e+00 3.780e+00\n",
      " 4.640e+00 3.790e+00 3.650e+00 3.940e+00 4.230e+00 4.050e+00 3.830e+00\n",
      " 9.540e+00 5.080e+00 6.790e+00 4.200e+00 7.890e+00 3.360e+01 5.900e+00\n",
      " 2.960e+00 1.578e+01 3.270e+00 6.130e+00 3.910e+00 6.450e+00 1.584e+01\n",
      " 4.830e+00 3.840e+00 7.550e+00 2.009e+01 8.110e+00 6.170e+00 4.700e+00\n",
      " 4.060e+00 4.850e+00 1.815e+01 2.072e+01 5.750e+00 4.160e+00 5.600e+00\n",
      " 9.340e+00 6.300e+00 3.140e+00 1.090e+01 4.900e+00 5.370e+00 3.590e+00\n",
      " 1.984e+01 2.309e+01 3.810e+00 7.300e+00 3.860e+00 9.150e+00 4.020e+00\n",
      " 8.440e+00 2.785e+01 2.276e+01 5.560e+00 1.202e+01 4.450e+00 4.260e+00\n",
      " 3.760e+00 1.226e+01 3.660e+00 3.710e+00 4.370e+00 4.760e+00 3.920e+00\n",
      " 5.990e+00 5.770e+00 4.310e+00 4.550e+00 1.753e+01 3.560e+00 4.420e+00\n",
      " 6.960e+00 3.233e+01 7.180e+00 4.720e+00 3.390e+00 6.600e+00 1.024e+01\n",
      " 5.250e+00 1.205e+01 4.650e+00 4.330e+00 6.630e+00 4.210e+00 5.640e+00\n",
      " 4.170e+00 4.600e+00 4.320e+00 3.960e+00 9.430e+00 5.910e+00 5.030e+00\n",
      " 7.770e+00 1.138e+01 5.700e+00 3.310e+00 3.880e+00 4.980e+00 4.150e+00\n",
      " 4.380e+00 1.978e+01 4.920e+00 4.740e+00 4.520e+00 4.430e+00 5.930e+00\n",
      " 4.490e+00 9.130e+00 9.220e+00 8.220e+00 1.427e+01 6.360e+00 4.960e+00\n",
      " 4.410e+00 4.340e+00 5.730e+00 4.140e+00 3.690e+00 1.966e+01 4.290e+00\n",
      " 4.350e+00 1.514e+01 5.380e+00 4.560e+00 5.890e+00 4.390e+00 4.990e+00\n",
      " 9.330e+00 1.667e+01 1.806e+01 2.714e+01 1.357e+01 8.320e+00 9.490e+00\n",
      " 2.184e+01 9.840e+00 7.530e+00 5.110e+00 5.400e+00 4.670e+00 6.460e+00\n",
      " 1.112e+01 8.270e+00 1.027e+01 7.200e+00 4.220e+00 4.530e+00 5.060e+00\n",
      " 9.640e+00 4.610e+00 1.783e+01 5.300e+00 5.000e+00 1.517e+01 4.500e+00\n",
      " 7.580e+00 6.810e+00 4.620e+00 5.350e+00 4.770e+00 4.590e+00 3.800e+00\n",
      " 4.780e+00 3.370e+00 5.840e+00 8.660e+00 8.330e+00 4.810e+00 7.500e+00\n",
      " 7.130e+00 6.230e+00 6.150e+00 5.100e+00 6.330e+00 4.950e+00 3.980e+00\n",
      " 8.720e+00 4.010e+00 5.500e+00 6.880e+00 5.050e+00 1.161e+01 4.970e+00\n",
      " 5.680e+00 7.380e+00 5.690e+00 6.020e+00 5.480e+00 5.830e+00 8.290e+00\n",
      " 5.130e+00 6.970e+00 6.770e+00 1.040e+01 5.410e+00 5.440e+00 5.490e+00\n",
      " 8.390e+00 5.790e+00 7.420e+00 6.180e+00 6.340e+00 7.140e+00 7.250e+00\n",
      " 4.840e+00 6.100e+00 4.730e+00 5.530e+00 8.710e+00 8.080e+00 6.750e+00\n",
      " 6.190e+00 6.000e+00 4.580e+00 1.043e+01 1.429e+01 1.461e+01 8.340e+00\n",
      " 7.060e+00 5.520e+00 5.290e+00 6.520e+00 6.210e+00 4.660e+00 5.960e+00\n",
      " 5.650e+00 6.040e+00 5.260e+00 5.430e+00 8.400e+00 5.580e+00 7.160e+00\n",
      " 5.660e+00 5.140e+00 6.320e+00 7.710e+00 7.290e+00 8.810e+00 6.250e+00\n",
      " 1.170e+01 6.980e+00 7.000e+00 6.870e+00 7.090e+00 9.380e+00 3.304e+01\n",
      " 6.540e+00 6.920e+00 4.870e+00 1.042e+01 8.960e+00 9.520e+00 7.080e+00\n",
      " 5.200e+00 4.880e+00 5.190e+00 5.510e+00 1.000e+01 6.670e+00 8.000e+00\n",
      " 1.269e+01 6.470e+00 6.820e+00 6.120e+00 8.820e+00 5.330e+00 6.490e+00]\n",
      "id                                                int64\n",
      "listing_url                                      object\n",
      "scrape_id                                         int64\n",
      "last_scraped                                     object\n",
      "source                                           object\n",
      "                                                 ...   \n",
      "calculated_host_listings_count                    int64\n",
      "calculated_host_listings_count_entire_homes       int64\n",
      "calculated_host_listings_count_private_rooms      int64\n",
      "calculated_host_listings_count_shared_rooms       int64\n",
      "reviews_per_month                               float64\n",
      "Length: 75, dtype: object\n"
     ]
    }
   ],
   "source": [
    "print(df[\"reviews_per_month\"].unique())  # Muestra los valores únicos en la columna\n",
    "print(df.dtypes)  # Revisa los tipos de datos en el DataFrame\n"
   ]
  },
  {
   "cell_type": "code",
   "execution_count": 11,
   "metadata": {},
   "outputs": [
    {
     "name": "stderr",
     "output_type": "stream",
     "text": [
      "/var/folders/tr/mry98_7x4ml8xx_5s0mpz0pw0000gn/T/ipykernel_74405/3019540328.py:3: FutureWarning: A value is trying to be set on a copy of a DataFrame or Series through chained assignment using an inplace method.\n",
      "The behavior will change in pandas 3.0. This inplace method will never work because the intermediate object on which we are setting values always behaves as a copy.\n",
      "\n",
      "For example, when doing 'df[col].method(value, inplace=True)', try using 'df.method({col: value}, inplace=True)' or df[col] = df[col].method(value) instead, to perform the operation inplace on the original object.\n",
      "\n",
      "\n",
      "  df[\"reviews_per_month\"].fillna(df[\"reviews_per_month\"].median(), inplace=True)\n"
     ]
    }
   ],
   "source": [
    "df = df[df[\"reviews_per_month\"] != \"Desconocido\"]\n",
    "df[\"reviews_per_month\"] = pd.to_numeric(df[\"reviews_per_month\"], errors=\"coerce\")\n",
    "df[\"reviews_per_month\"].fillna(df[\"reviews_per_month\"].median(), inplace=True)\n"
   ]
  },
  {
   "cell_type": "code",
   "execution_count": 12,
   "metadata": {},
   "outputs": [
    {
     "name": "stderr",
     "output_type": "stream",
     "text": [
      "/var/folders/tr/mry98_7x4ml8xx_5s0mpz0pw0000gn/T/ipykernel_74405/742322156.py:1: FutureWarning: A value is trying to be set on a copy of a DataFrame or Series through chained assignment using an inplace method.\n",
      "The behavior will change in pandas 3.0. This inplace method will never work because the intermediate object on which we are setting values always behaves as a copy.\n",
      "\n",
      "For example, when doing 'df[col].method(value, inplace=True)', try using 'df.method({col: value}, inplace=True)' or df[col] = df[col].method(value) instead, to perform the operation inplace on the original object.\n",
      "\n",
      "\n",
      "  df[\"reviews_per_month\"].fillna(df[\"reviews_per_month\"].median(), inplace=True)  # Reemplaza con la mediana\n"
     ]
    }
   ],
   "source": [
    "df[\"reviews_per_month\"].fillna(df[\"reviews_per_month\"].median(), inplace=True)  # Reemplaza con la mediana\n"
   ]
  },
  {
   "cell_type": "code",
   "execution_count": 13,
   "metadata": {},
   "outputs": [
    {
     "name": "stdout",
     "output_type": "stream",
     "text": [
      "{'nulos_por_columna': id                                              0\n",
      "listing_url                                     0\n",
      "scrape_id                                       0\n",
      "last_scraped                                    0\n",
      "source                                          0\n",
      "                                               ..\n",
      "calculated_host_listings_count                  0\n",
      "calculated_host_listings_count_entire_homes     0\n",
      "calculated_host_listings_count_private_rooms    0\n",
      "calculated_host_listings_count_shared_rooms     0\n",
      "reviews_per_month                               0\n",
      "Length: 75, dtype: int64, 'total_nulos': np.int64(0)}\n"
     ]
    }
   ],
   "source": [
    "nulos_actualizados = actividad4.identificar_nulos(df)\n",
    "print(nulos_actualizados)  # Debe mostrar total_nulos: 0 si todo fue limpiado\n"
   ]
  },
  {
   "cell_type": "code",
   "execution_count": 14,
   "metadata": {},
   "outputs": [],
   "source": [
    "df.to_csv(\"datos_limpios.csv\", index=False)\n"
   ]
  }
 ],
 "metadata": {
  "kernelspec": {
   "display_name": "Python 3",
   "language": "python",
   "name": "python3"
  },
  "language_info": {
   "codemirror_mode": {
    "name": "ipython",
    "version": 3
   },
   "file_extension": ".py",
   "mimetype": "text/x-python",
   "name": "python",
   "nbconvert_exporter": "python",
   "pygments_lexer": "ipython3",
   "version": "3.13.2"
  }
 },
 "nbformat": 4,
 "nbformat_minor": 2
}
